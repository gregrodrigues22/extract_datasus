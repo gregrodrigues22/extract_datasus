{
  "nbformat": 4,
  "nbformat_minor": 0,
  "metadata": {
    "colab": {
      "provenance": [],
      "collapsed_sections": [
        "e8pqwIMdfiw_",
        "E3umozddfCqc",
        "U8767gZWsloV",
        "FpfB_gC8sw-x",
        "eukY8Qqfs2lO",
        "ySyk0m3e3n1R",
        "3BwP5SHQ3n1S",
        "jeJEq9Ul3n1S",
        "G1eoutXb3n1T",
        "fCszcs2Z3n1T",
        "PlXiRJAo3n1U"
      ],
      "toc_visible": true
    },
    "kernelspec": {
      "name": "python3",
      "display_name": "Python 3"
    },
    "language_info": {
      "name": "python"
    }
  },
  "cells": [
    {
      "cell_type": "markdown",
      "source": [
        "#Estrutura dos Arquivos"
      ],
      "metadata": {
        "id": "e8pqwIMdfiw_"
      }
    },
    {
      "cell_type": "code",
      "source": [
        "#-l (list) do curl lista o conteúdo da pasta e não baixa um arquivo específico.\n",
        "\n",
        "!curl -l ftp://ftp.datasus.gov.br/dissemin/publicos/CNES/200508_/Dados/"
      ],
      "metadata": {
        "colab": {
          "base_uri": "https://localhost:8080/"
        },
        "id": "0OgJNuN1rSFo",
        "outputId": "90bf1ed4-0275-40e3-a35f-181950e4c1b6"
      },
      "execution_count": null,
      "outputs": [
        {
          "output_type": "stream",
          "name": "stdout",
          "text": [
            "DC\n",
            "EE\n",
            "EF\n",
            "EP\n",
            "EQ\n",
            "GM\n",
            "HB\n",
            "IN\n",
            "LT\n",
            "PF\n",
            "RC\n",
            "SR\n",
            "ST\n"
          ]
        }
      ]
    },
    {
      "cell_type": "markdown",
      "source": [
        "| **Código** | **Descrição** |\n",
        "|------------|--------------|\n",
        "| **DC** | Dados Complementares |\n",
        "| **EE** | Equipamentos |\n",
        "| **EF** | Equipes |\n",
        "| **EP** | Estabelecimentos de Saúde |\n",
        "| **EQ** | Equipes de Saúde Bucal |\n",
        "| **GM** | Gestão Municipal |\n",
        "| **HB** | Habilitações |\n",
        "| **IN** | Incentivos |\n",
        "| **LT** | Leitos |\n",
        "| **PF** | Profissionais de Saúde |\n",
        "| **RC** | Recurso Complementar |\n",
        "| **SR** | Serviços Especializados |\n",
        "| **ST** | Serviços Especializados Tipo |"
      ],
      "metadata": {
        "id": "nKO8fqZlfeNW"
      }
    },
    {
      "cell_type": "markdown",
      "source": [
        "#CNES - Profissional"
      ],
      "metadata": {
        "id": "E3umozddfCqc"
      }
    },
    {
      "cell_type": "markdown",
      "source": [
        "###Aquisição dos Links"
      ],
      "metadata": {
        "id": "U8767gZWsloV"
      }
    },
    {
      "cell_type": "code",
      "execution_count": null,
      "metadata": {
        "id": "ZTCUB9bGjzh7"
      },
      "outputs": [],
      "source": [
        "import json\n",
        "\n",
        "# Definição do caminho base dos arquivos no FTP\n",
        "link_base = \"ftp://ftp.datasus.gov.br/dissemin/publicos/CNES/200508_/Dados/PF/PFMG\"\n",
        "link_suffix = \".dbc\"\n",
        "anos = range(2019, 2021) # Define os anos desejados\n",
        "meses = range(1, 2) # Define os meses desejados\n",
        "\n",
        "# Lista para armazenar os links de download\n",
        "links = []\n",
        "\n",
        "# Gerando os links corretamente\n",
        "for ano in anos:\n",
        "    for mes in meses:\n",
        "        ano_sufixo = str(ano)[2:]\n",
        "        mes_sufixo = str(mes).zfill(2)\n",
        "        links.append(f\"{link_base}{ano_sufixo}{mes_sufixo}{link_suffix}\")\n",
        "\n",
        "# Salvar corretamente como lista\n",
        "with open(\"links.json\", \"w\") as f:\n",
        "    json.dump(links, f, indent=4)"
      ]
    },
    {
      "cell_type": "code",
      "source": [
        "links"
      ],
      "metadata": {
        "colab": {
          "base_uri": "https://localhost:8080/"
        },
        "id": "1-a9CgDLgnHZ",
        "outputId": "12ffb66c-06be-48a8-f0c6-82a87605aa62"
      },
      "execution_count": null,
      "outputs": [
        {
          "output_type": "execute_result",
          "data": {
            "text/plain": [
              "['ftp://ftp.datasus.gov.br/dissemin/publicos/CNES/200508_/Dados/PF/PFMG1901.dbc',\n",
              " 'ftp://ftp.datasus.gov.br/dissemin/publicos/CNES/200508_/Dados/PF/PFMG2001.dbc']"
            ]
          },
          "metadata": {},
          "execution_count": 54
        }
      ]
    },
    {
      "cell_type": "markdown",
      "source": [
        "###Aquisição do Arquivo DBC"
      ],
      "metadata": {
        "id": "FpfB_gC8sw-x"
      }
    },
    {
      "cell_type": "code",
      "source": [
        "import json\n",
        "import os\n",
        "\n",
        "# Ler para garantir que foi salvo corretamente\n",
        "with open(\"links.json\", \"r\") as f:\n",
        "    links = json.load(f)"
      ],
      "metadata": {
        "id": "t7zSHL7csq0s"
      },
      "execution_count": null,
      "outputs": []
    },
    {
      "cell_type": "code",
      "source": [
        "# Criar a pasta de armazenamento se não existir\n",
        "os.makedirs(\"bases_raw\", exist_ok=True)"
      ],
      "metadata": {
        "id": "0Z1cAF7Ksuvy"
      },
      "execution_count": null,
      "outputs": []
    },
    {
      "cell_type": "code",
      "source": [
        "# Baixar os arquivos do FTP para a pasta \"bases_raw\"\n",
        "for link in links:\n",
        "    os.system(f\"wget -P bases_raw --inet4-only {link}\")"
      ],
      "metadata": {
        "id": "PRTfyuLTXDCH"
      },
      "execution_count": null,
      "outputs": []
    },
    {
      "cell_type": "markdown",
      "source": [
        "###Conversão em CSV"
      ],
      "metadata": {
        "id": "eukY8Qqfs2lO"
      }
    },
    {
      "cell_type": "code",
      "source": [
        "# Criar a pasta de saída dos arquivos convertidos\n",
        "os.makedirs(\"bases_descomprimidas\", exist_ok=True)"
      ],
      "metadata": {
        "id": "VVT_aWrHZVu4"
      },
      "execution_count": null,
      "outputs": []
    },
    {
      "cell_type": "code",
      "source": [
        "%reload_ext rpy2.ipython\n",
        "%config IPCompleter.greedy=True\n",
        "%config InlineBackend.figure_format = 'retina'"
      ],
      "metadata": {
        "id": "lr962Z7FayQI"
      },
      "execution_count": null,
      "outputs": []
    },
    {
      "cell_type": "code",
      "source": [
        "%%R\n",
        "\n",
        "# O jeito normal `install.packages(\"read.dbc\")` não funciona pois a biblioteca foi removida do CRAN\n",
        "# Essa forma instala o código direto do github\n",
        "devtools::install_github(\"danicat/read.dbc\")"
      ],
      "metadata": {
        "id": "3SSG7kgkasum"
      },
      "execution_count": null,
      "outputs": []
    },
    {
      "cell_type": "code",
      "source": [
        "%%R\n",
        "library(\"read.dbc\")\n",
        "\n",
        "# Função para converter todos os arquivos .dbc na pasta\n",
        "convert_all_dbc <- function(rawDir, convertedDir) {\n",
        "    files <- list.files(path = rawDir, pattern = \"\\\\.dbc$\", full.names = TRUE)  # Lista arquivos .dbc\n",
        "    for (file in files) {\n",
        "        tryCatch({\n",
        "            print(paste(\"Convertendo:\", file))  # Exibir arquivo atual\n",
        "\n",
        "            # Ler arquivo .dbc\n",
        "            x <- read.dbc(file)\n",
        "\n",
        "            # Criar nome do arquivo CSV\n",
        "            csv_file <- paste0(convertedDir, \"/\", tools::file_path_sans_ext(basename(file)), \".csv\")\n",
        "\n",
        "            # Salvar CSV garantindo delimitadores corretos\n",
        "            write.table(x, file = csv_file, fileEncoding = \"UTF-8\", row.names = FALSE, sep = \",\", dec = \".\", na = \"\", quote = TRUE)\n",
        "\n",
        "            print(paste(\"Convertido com sucesso:\", csv_file))\n",
        "        }, error = function(e) {\n",
        "            print(paste(\"Erro ao converter:\", file, \"->\", e$message))\n",
        "        })\n",
        "    }\n",
        "}\n",
        "\n",
        "# Chamar a função\n",
        "convert_all_dbc(\"bases_raw\", \"bases_descomprimidas\")"
      ],
      "metadata": {
        "id": "z92S722myMlm"
      },
      "execution_count": null,
      "outputs": []
    },
    {
      "cell_type": "markdown",
      "source": [
        "###Compilação todos arquivos"
      ],
      "metadata": {
        "id": "jkAjYrxWce8C"
      }
    },
    {
      "cell_type": "code",
      "source": [
        "import pandas as pd"
      ],
      "metadata": {
        "id": "oxEdTXysrZQU"
      },
      "execution_count": null,
      "outputs": []
    },
    {
      "cell_type": "code",
      "source": [
        "# Criar a pasta de saída se não existir\n",
        "os.makedirs(\"bases_compiladas\", exist_ok=True)"
      ],
      "metadata": {
        "id": "fCAo317Gc4GN"
      },
      "execution_count": null,
      "outputs": []
    },
    {
      "cell_type": "code",
      "source": [
        "# Listar todos os arquivos CSV na pasta bases_descomprimidas\n",
        "csv_files = [f for f in os.listdir(\"bases_descomprimidas\") if f.endswith(\".csv\")]"
      ],
      "metadata": {
        "id": "I-_QtCI0c6d6"
      },
      "execution_count": null,
      "outputs": []
    },
    {
      "cell_type": "code",
      "source": [
        "# Criar um dataframe vazio para armazenar os dados\n",
        "df_compilado = pd.DataFrame()"
      ],
      "metadata": {
        "id": "9Km8JLssc77M"
      },
      "execution_count": null,
      "outputs": []
    },
    {
      "cell_type": "code",
      "source": [
        "# Percorrer todos os arquivos CSV e fazer o append no dataframe compilado\n",
        "for file in csv_files:\n",
        "    file_path = os.path.join(\"bases_descomprimidas\", file)\n",
        "    print(f\"Lendo {file_path}\")\n",
        "    df = pd.read_csv(file_path, dtype=str)  # Lendo os dados como string para evitar problemas de tipo\n",
        "    df_compilado = pd.concat([df_compilado, df], ignore_index=True)"
      ],
      "metadata": {
        "id": "UkTtS8y5c9Ln"
      },
      "execution_count": null,
      "outputs": []
    },
    {
      "cell_type": "code",
      "source": [
        "# Salvar o arquivo compilado na nova pasta\n",
        "output_file = \"bases_compiladas/dados_compilados.csv\"\n",
        "df_compilado.to_csv(output_file, index=False, encoding=\"utf-8\")"
      ],
      "metadata": {
        "id": "JfHbPvZ0dAJk"
      },
      "execution_count": null,
      "outputs": []
    },
    {
      "cell_type": "markdown",
      "source": [
        "#CNES - Equipe"
      ],
      "metadata": {
        "id": "ySyk0m3e3n1R"
      }
    },
    {
      "cell_type": "markdown",
      "source": [
        "###Aquisição dos Links"
      ],
      "metadata": {
        "id": "3BwP5SHQ3n1S"
      }
    },
    {
      "cell_type": "code",
      "execution_count": null,
      "metadata": {
        "id": "jvMrdSxL3n1S"
      },
      "outputs": [],
      "source": [
        "import json\n",
        "\n",
        "# Definição do caminho base dos arquivos no FTP\n",
        "link_base = \"ftp://ftp.datasus.gov.br/dissemin/publicos/CNES/200508_/Dados/EF/EFMG\"\n",
        "link_suffix = \".dbc\"\n",
        "anos = range(2019, 2021) # Define os anos desejados\n",
        "meses = range(1, 2) # Define os meses desejados\n",
        "\n",
        "# Lista para armazenar os links de download\n",
        "links = []\n",
        "\n",
        "# Gerando os links corretamente\n",
        "for ano in anos:\n",
        "    for mes in meses:\n",
        "        ano_sufixo = str(ano)[2:]\n",
        "        mes_sufixo = str(mes).zfill(2)\n",
        "        links.append(f\"{link_base}{ano_sufixo}{mes_sufixo}{link_suffix}\")\n",
        "\n",
        "# Salvar corretamente como lista\n",
        "with open(\"links.json\", \"w\") as f:\n",
        "    json.dump(links, f, indent=4)"
      ]
    },
    {
      "cell_type": "code",
      "source": [
        "links"
      ],
      "metadata": {
        "colab": {
          "base_uri": "https://localhost:8080/"
        },
        "outputId": "ee9be24e-2df4-4803-87cc-2a613dd240c7",
        "id": "RLSrQuxA3n1S"
      },
      "execution_count": null,
      "outputs": [
        {
          "output_type": "execute_result",
          "data": {
            "text/plain": [
              "['ftp://ftp.datasus.gov.br/dissemin/publicos/CNES/200508_/Dados/EF/EFMG1901.dbc',\n",
              " 'ftp://ftp.datasus.gov.br/dissemin/publicos/CNES/200508_/Dados/EF/EFMG2001.dbc']"
            ]
          },
          "metadata": {},
          "execution_count": 3
        }
      ]
    },
    {
      "cell_type": "markdown",
      "source": [
        "###Aquisição do Arquivo DBC"
      ],
      "metadata": {
        "id": "jeJEq9Ul3n1S"
      }
    },
    {
      "cell_type": "code",
      "source": [
        "import json\n",
        "import os\n",
        "\n",
        "# Ler para garantir que foi salvo corretamente\n",
        "with open(\"links.json\", \"r\") as f:\n",
        "    links = json.load(f)"
      ],
      "metadata": {
        "id": "xNT0tjZA3n1S"
      },
      "execution_count": null,
      "outputs": []
    },
    {
      "cell_type": "code",
      "source": [
        "# Criar a pasta de armazenamento se não existir\n",
        "os.makedirs(\"bases_raw\", exist_ok=True)"
      ],
      "metadata": {
        "id": "gRlYAwOK3n1S"
      },
      "execution_count": null,
      "outputs": []
    },
    {
      "cell_type": "code",
      "source": [
        "# Baixar os arquivos do FTP para a pasta \"bases_raw\"\n",
        "for link in links:\n",
        "    os.system(f\"wget -P bases_raw --inet4-only {link}\")"
      ],
      "metadata": {
        "id": "XFIYwY4t3n1S"
      },
      "execution_count": null,
      "outputs": []
    },
    {
      "cell_type": "markdown",
      "source": [
        "###Conversão em CSV"
      ],
      "metadata": {
        "id": "G1eoutXb3n1T"
      }
    },
    {
      "cell_type": "code",
      "source": [
        "# Criar a pasta de saída dos arquivos convertidos\n",
        "os.makedirs(\"bases_descomprimidas\", exist_ok=True)"
      ],
      "metadata": {
        "id": "D3kp8VMv3n1T"
      },
      "execution_count": null,
      "outputs": []
    },
    {
      "cell_type": "code",
      "source": [
        "%reload_ext rpy2.ipython\n",
        "%config IPCompleter.greedy=True\n",
        "%config InlineBackend.figure_format = 'retina'"
      ],
      "metadata": {
        "id": "Y0jZETlm3n1T"
      },
      "execution_count": null,
      "outputs": []
    },
    {
      "cell_type": "code",
      "source": [
        "%%R\n",
        "\n",
        "# O jeito normal `install.packages(\"read.dbc\")` não funciona pois a biblioteca foi removida do CRAN\n",
        "# Essa forma instala o código direto do github\n",
        "devtools::install_github(\"danicat/read.dbc\")"
      ],
      "metadata": {
        "colab": {
          "base_uri": "https://localhost:8080/",
          "height": 243
        },
        "outputId": "e0527ae9-8b2e-4ce7-c318-0c85f4ffa70c",
        "id": "kMzPMgr03n1T"
      },
      "execution_count": null,
      "outputs": [
        {
          "output_type": "stream",
          "name": "stdout",
          "text": [
            "── R CMD build ─────────────────────────────────────────────────────────────────\n",
            "* checking for file ‘/tmp/RtmpTstRmy/remotes61968824da/danicat-read.dbc-90970b3/DESCRIPTION’ ... OK\n",
            "* preparing ‘read.dbc’:\n",
            "* checking DESCRIPTION meta-information ... OK\n",
            "* cleaning src\n",
            "* checking for LF line-endings in source and make files and shell scripts\n",
            "* checking for empty or unneeded directories\n",
            "Omitted ‘LazyData’ from DESCRIPTION\n",
            "* building ‘read.dbc_1.0.7.tar.gz’\n",
            "\n"
          ]
        },
        {
          "output_type": "display_data",
          "data": {
            "text/plain": [
              "Downloading GitHub repo danicat/read.dbc@HEAD\n",
              "Installing package into ‘/usr/local/lib/R/site-library’\n",
              "(as ‘lib’ is unspecified)\n"
            ]
          },
          "metadata": {}
        }
      ]
    },
    {
      "cell_type": "code",
      "source": [
        "%%R\n",
        "library(\"read.dbc\")\n",
        "\n",
        "# Função para converter todos os arquivos .dbc na pasta\n",
        "convert_all_dbc <- function(rawDir, convertedDir) {\n",
        "    files <- list.files(path = rawDir, pattern = \"\\\\.dbc$\", full.names = TRUE)  # Lista arquivos .dbc\n",
        "    for (file in files) {\n",
        "        tryCatch({\n",
        "            print(paste(\"Convertendo:\", file))  # Exibir arquivo atual\n",
        "\n",
        "            # Ler arquivo .dbc\n",
        "            x <- read.dbc(file)\n",
        "\n",
        "            # Criar nome do arquivo CSV\n",
        "            csv_file <- paste0(convertedDir, \"/\", tools::file_path_sans_ext(basename(file)), \".csv\")\n",
        "\n",
        "            # Salvar CSV garantindo delimitadores corretos\n",
        "            write.table(x, file = csv_file, fileEncoding = \"UTF-8\", row.names = FALSE, sep = \",\", dec = \".\", na = \"\", quote = TRUE)\n",
        "\n",
        "            print(paste(\"Convertido com sucesso:\", csv_file))\n",
        "        }, error = function(e) {\n",
        "            print(paste(\"Erro ao converter:\", file, \"->\", e$message))\n",
        "        })\n",
        "    }\n",
        "}\n",
        "\n",
        "# Chamar a função\n",
        "convert_all_dbc(\"bases_raw\", \"bases_descomprimidas\")"
      ],
      "metadata": {
        "colab": {
          "base_uri": "https://localhost:8080/"
        },
        "outputId": "1ee51f0f-e224-4e88-b59c-ec789d67d55a",
        "id": "zfZTUww63n1T"
      },
      "execution_count": null,
      "outputs": [
        {
          "output_type": "stream",
          "name": "stdout",
          "text": [
            "[1] \"Convertendo: bases_raw/EFMG1901.dbc\"\n",
            "[1] \"Convertido com sucesso: bases_descomprimidas/EFMG1901.csv\"\n",
            "[1] \"Convertendo: bases_raw/EFMG2001.dbc\"\n",
            "[1] \"Convertido com sucesso: bases_descomprimidas/EFMG2001.csv\"\n"
          ]
        }
      ]
    },
    {
      "cell_type": "markdown",
      "source": [
        "###Compilação todos arquivos"
      ],
      "metadata": {
        "id": "fCszcs2Z3n1T"
      }
    },
    {
      "cell_type": "code",
      "source": [
        "import pandas as pd"
      ],
      "metadata": {
        "id": "6Oazyv0x3n1T"
      },
      "execution_count": null,
      "outputs": []
    },
    {
      "cell_type": "code",
      "source": [
        "# Criar a pasta de saída se não existir\n",
        "os.makedirs(\"bases_compiladas\", exist_ok=True)"
      ],
      "metadata": {
        "id": "we-S0hrG3n1T"
      },
      "execution_count": null,
      "outputs": []
    },
    {
      "cell_type": "code",
      "source": [
        "# Listar todos os arquivos CSV na pasta bases_descomprimidas\n",
        "csv_files = [f for f in os.listdir(\"bases_descomprimidas\") if f.endswith(\".csv\")]"
      ],
      "metadata": {
        "id": "wpTchlfg3n1T"
      },
      "execution_count": null,
      "outputs": []
    },
    {
      "cell_type": "code",
      "source": [
        "# Criar um dataframe vazio para armazenar os dados\n",
        "df_compilado = pd.DataFrame()"
      ],
      "metadata": {
        "id": "S9nGGb-H3n1U"
      },
      "execution_count": null,
      "outputs": []
    },
    {
      "cell_type": "code",
      "source": [
        "# Percorrer todos os arquivos CSV e fazer o append no dataframe compilado\n",
        "for file in csv_files:\n",
        "    file_path = os.path.join(\"bases_descomprimidas\", file)\n",
        "    print(f\"Lendo {file_path}\")\n",
        "    df = pd.read_csv(file_path, dtype=str)  # Lendo os dados como string para evitar problemas de tipo\n",
        "    df_compilado = pd.concat([df_compilado, df], ignore_index=True)"
      ],
      "metadata": {
        "colab": {
          "base_uri": "https://localhost:8080/"
        },
        "outputId": "55cba94a-4fd0-4330-aa80-f3f18cd44f1d",
        "id": "_1RG2F0v3n1U"
      },
      "execution_count": null,
      "outputs": [
        {
          "output_type": "stream",
          "name": "stdout",
          "text": [
            "Lendo bases_descomprimidas/EFMG2001.csv\n",
            "Lendo bases_descomprimidas/EFMG1901.csv\n"
          ]
        }
      ]
    },
    {
      "cell_type": "code",
      "source": [
        "# Salvar o arquivo compilado na nova pasta\n",
        "output_file = \"bases_compiladas/dados_compilados.csv\"\n",
        "df_compilado.to_csv(output_file, index=False, encoding=\"utf-8\")"
      ],
      "metadata": {
        "id": "S-9ITW2H3n1U"
      },
      "execution_count": null,
      "outputs": []
    }
  ]
}